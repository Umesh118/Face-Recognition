{
  "nbformat": 4,
  "nbformat_minor": 0,
  "metadata": {
    "colab": {
      "name": "Encode faces.ipynb",
      "provenance": [],
      "collapsed_sections": []
    },
    "kernelspec": {
      "name": "python3",
      "display_name": "Python 3"
    },
    "accelerator": "GPU"
  },
  "cells": [
    {
      "cell_type": "code",
      "metadata": {
        "id": "xTA8ZeHyt1aT",
        "colab_type": "code",
        "colab": {
          "base_uri": "https://localhost:8080/",
          "height": 263
        },
        "outputId": "65bbbfbd-ce0a-4f8f-c81b-e877e3067d4d"
      },
      "source": [
        "!wget --no-check-certificate \\\n",
        "      https://s3-us-west-2.amazonaws.com/static.pyimagesearch.com/face-recognition-opencv/face-recognition-opencv.zip \\\n",
        "      -O /content/face-recognition-opencv.zip"
      ],
      "execution_count": 1,
      "outputs": [
        {
          "output_type": "stream",
          "text": [
            "--2020-08-19 16:39:03--  https://s3-us-west-2.amazonaws.com/static.pyimagesearch.com/face-recognition-opencv/face-recognition-opencv.zip\n",
            "Resolving s3-us-west-2.amazonaws.com (s3-us-west-2.amazonaws.com)... 52.218.128.172\n",
            "Connecting to s3-us-west-2.amazonaws.com (s3-us-west-2.amazonaws.com)|52.218.128.172|:443... connected.\n",
            "HTTP request sent, awaiting response... 200 OK\n",
            "Length: 356544079 (340M) [application/zip]\n",
            "Saving to: ‘/content/face-recognition-opencv.zip’\n",
            "\n",
            "/content/face-recog 100%[===================>] 340.03M  20.6MB/s    in 17s     \n",
            "\n",
            "2020-08-19 16:39:21 (19.6 MB/s) - ‘/content/face-recognition-opencv.zip’ saved [356544079/356544079]\n",
            "\n"
          ],
          "name": "stdout"
        }
      ]
    },
    {
      "cell_type": "code",
      "metadata": {
        "id": "J6yUxW2DvNNs",
        "colab_type": "code",
        "colab": {}
      },
      "source": [
        "import os\n",
        "import zipfile\n",
        "\n",
        "local_zip = '/content/face-recognition-opencv.zip'\n",
        "zip_ref = zipfile.ZipFile(local_zip, 'r')\n",
        "zip_ref.extractall('')\n",
        "zip_ref.close()"
      ],
      "execution_count": 2,
      "outputs": []
    },
    {
      "cell_type": "code",
      "metadata": {
        "id": "o2pNrelPv5aX",
        "colab_type": "code",
        "colab": {
          "base_uri": "https://localhost:8080/",
          "height": 39
        },
        "outputId": "9d520df5-8287-4dba-f0ae-c9218ca138fb"
      },
      "source": [
        "os.getcwd()"
      ],
      "execution_count": 3,
      "outputs": [
        {
          "output_type": "execute_result",
          "data": {
            "application/vnd.google.colaboratory.intrinsic+json": {
              "type": "string"
            },
            "text/plain": [
              "'/content'"
            ]
          },
          "metadata": {
            "tags": []
          },
          "execution_count": 3
        }
      ]
    },
    {
      "cell_type": "code",
      "metadata": {
        "id": "xDOKr7NyGOnU",
        "colab_type": "code",
        "colab": {
          "base_uri": "https://localhost:8080/",
          "height": 395
        },
        "outputId": "7b5e1f5e-c6d0-4cb2-fc38-0e0cdfd760d2"
      },
      "source": [
        "!pip install face_recognition"
      ],
      "execution_count": 4,
      "outputs": [
        {
          "output_type": "stream",
          "text": [
            "Collecting face_recognition\n",
            "  Downloading https://files.pythonhosted.org/packages/1e/95/f6c9330f54ab07bfa032bf3715c12455a381083125d8880c43cbe76bb3d0/face_recognition-1.3.0-py2.py3-none-any.whl\n",
            "Requirement already satisfied: Click>=6.0 in /usr/local/lib/python3.6/dist-packages (from face_recognition) (7.1.2)\n",
            "Collecting face-recognition-models>=0.3.0\n",
            "\u001b[?25l  Downloading https://files.pythonhosted.org/packages/cf/3b/4fd8c534f6c0d1b80ce0973d01331525538045084c73c153ee6df20224cf/face_recognition_models-0.3.0.tar.gz (100.1MB)\n",
            "\u001b[K     |████████████████████████████████| 100.2MB 75kB/s \n",
            "\u001b[?25hRequirement already satisfied: numpy in /usr/local/lib/python3.6/dist-packages (from face_recognition) (1.18.5)\n",
            "Requirement already satisfied: dlib>=19.7 in /usr/local/lib/python3.6/dist-packages (from face_recognition) (19.18.0)\n",
            "Requirement already satisfied: Pillow in /usr/local/lib/python3.6/dist-packages (from face_recognition) (7.0.0)\n",
            "Building wheels for collected packages: face-recognition-models\n",
            "  Building wheel for face-recognition-models (setup.py) ... \u001b[?25l\u001b[?25hdone\n",
            "  Created wheel for face-recognition-models: filename=face_recognition_models-0.3.0-py2.py3-none-any.whl size=100566172 sha256=a357c79c69cd05082ebcb76ca5379debe3d2072aeed88f3164b57853b9cf03d7\n",
            "  Stored in directory: /root/.cache/pip/wheels/d2/99/18/59c6c8f01e39810415c0e63f5bede7d83dfb0ffc039865465f\n",
            "Successfully built face-recognition-models\n",
            "Installing collected packages: face-recognition-models, face-recognition\n",
            "Successfully installed face-recognition-1.3.0 face-recognition-models-0.3.0\n"
          ],
          "name": "stdout"
        }
      ]
    },
    {
      "cell_type": "code",
      "metadata": {
        "id": "I8vx3VZ_poQr",
        "colab_type": "code",
        "colab": {
          "base_uri": "https://localhost:8080/",
          "height": 39
        },
        "outputId": "6a893d93-825d-4804-ad8a-9cf348788ad7"
      },
      "source": [
        "!pip install imutils"
      ],
      "execution_count": 5,
      "outputs": [
        {
          "output_type": "stream",
          "text": [
            "Requirement already satisfied: imutils in /usr/local/lib/python3.6/dist-packages (0.5.3)\n"
          ],
          "name": "stdout"
        }
      ]
    },
    {
      "cell_type": "code",
      "metadata": {
        "id": "XiQNygH-H0QC",
        "colab_type": "code",
        "colab": {
          "base_uri": "https://localhost:8080/",
          "height": 39
        },
        "outputId": "e262103d-7d8e-4a0a-d8b9-3ba9f8650ab8"
      },
      "source": [
        "!pip install dlib"
      ],
      "execution_count": 6,
      "outputs": [
        {
          "output_type": "stream",
          "text": [
            "Requirement already satisfied: dlib in /usr/local/lib/python3.6/dist-packages (19.18.0)\n"
          ],
          "name": "stdout"
        }
      ]
    },
    {
      "cell_type": "code",
      "metadata": {
        "id": "g_o0Ofm_H6OE",
        "colab_type": "code",
        "colab": {}
      },
      "source": [
        "import argparse\n",
        "import pickle\n",
        "import cv2\n",
        "import os\n",
        "from imutils import paths"
      ],
      "execution_count": 7,
      "outputs": []
    },
    {
      "cell_type": "code",
      "metadata": {
        "id": "rYgN7GI5UXGf",
        "colab_type": "code",
        "colab": {}
      },
      "source": [
        "import numpy as np\n",
        "import pandas as pd\n"
      ],
      "execution_count": 8,
      "outputs": []
    },
    {
      "cell_type": "code",
      "metadata": {
        "id": "yslqmsqJJzN4",
        "colab_type": "code",
        "colab": {}
      },
      "source": [
        "import dlib\n",
        "import face_recognition"
      ],
      "execution_count": 9,
      "outputs": []
    },
    {
      "cell_type": "code",
      "metadata": {
        "id": "tQIdv4wUZDc7",
        "colab_type": "code",
        "colab": {
          "base_uri": "https://localhost:8080/",
          "height": 39
        },
        "outputId": "591d358d-91cd-4465-a651-23cea73b08af"
      },
      "source": [
        "print(\"[INFO] quantifying faces...\")\n",
        "imagePaths = list(paths.list_images('./face-recognition-opencv/dataset'))"
      ],
      "execution_count": 10,
      "outputs": [
        {
          "output_type": "stream",
          "text": [
            "[INFO] quantifying faces...\n"
          ],
          "name": "stdout"
        }
      ]
    },
    {
      "cell_type": "code",
      "metadata": {
        "id": "aw-1y4TN0M8V",
        "colab_type": "code",
        "colab": {
          "base_uri": "https://localhost:8080/",
          "height": 39
        },
        "outputId": "6fe6fa86-132e-49e6-a9c9-ebd73c97a3e2"
      },
      "source": [
        "len(imagePaths)"
      ],
      "execution_count": 11,
      "outputs": [
        {
          "output_type": "execute_result",
          "data": {
            "text/plain": [
              "218"
            ]
          },
          "metadata": {
            "tags": []
          },
          "execution_count": 11
        }
      ]
    },
    {
      "cell_type": "code",
      "metadata": {
        "id": "wKcLWmtaWxQt",
        "colab_type": "code",
        "colab": {}
      },
      "source": [
        "knownEncodings = []\n",
        "knownNames = []"
      ],
      "execution_count": 12,
      "outputs": []
    },
    {
      "cell_type": "code",
      "metadata": {
        "id": "bH5oiZxfXNgS",
        "colab_type": "code",
        "colab": {
          "base_uri": "https://localhost:8080/",
          "height": 1000
        },
        "outputId": "3b33df83-fcff-45f5-a5dd-c36f73e27b29"
      },
      "source": [
        "for (i, imagePath) in enumerate(imagePaths):\n",
        "\t# extract the person name from the image path\n",
        "\tprint(\"[INFO] processing image {}/{}\".format(i + 1,\n",
        "\t\tlen(imagePaths)))\n",
        "\tname = imagePath.split(os.path.sep)[-2]\n",
        "\n",
        "\t# load the input image and convert it from RGB (OpenCV ordering)\n",
        "\t# to dlib ordering (RGB)\n",
        "\timage = cv2.imread(imagePath)\n",
        "\trgb = cv2.cvtColor(image, cv2.COLOR_BGR2RGB)\n",
        "\n",
        "\t# detect the (x, y)-coordinates of the bounding boxes\n",
        "\t# corresponding to each face in the input image\n",
        "\tboxes = face_recognition.face_locations(rgb,\n",
        "\t\tmodel=\"cnn\")\n",
        "\n",
        "\t# compute the facial embedding for the face\n",
        "\tencodings = face_recognition.face_encodings(rgb, boxes)\n",
        "\n",
        "\t# loop over the encodings\n",
        "\tfor encoding in encodings:\n",
        "\t\t# add each encoding + name to our set of known names and\n",
        "\t\t# encodings\n",
        "\t\tknownEncodings.append(encoding)\n",
        "\t\tknownNames.append(name)\n",
        "\n",
        "# dump the facial encodings + names to disk\n",
        "print(\"[INFO] serializing encodings...\")\n",
        "data = {\"encodings\": knownEncodings, \"names\": knownNames}\n",
        "f = open('./face-recognition-opencv/videos/encodings.pickle', \"wb\")\n",
        "f.write(pickle.dumps(data))\n",
        "f.close()\n"
      ],
      "execution_count": 13,
      "outputs": [
        {
          "output_type": "stream",
          "text": [
            "[INFO] processing image 1/218\n",
            "[INFO] processing image 2/218\n",
            "[INFO] processing image 3/218\n",
            "[INFO] processing image 4/218\n",
            "[INFO] processing image 5/218\n",
            "[INFO] processing image 6/218\n",
            "[INFO] processing image 7/218\n",
            "[INFO] processing image 8/218\n",
            "[INFO] processing image 9/218\n",
            "[INFO] processing image 10/218\n",
            "[INFO] processing image 11/218\n",
            "[INFO] processing image 12/218\n",
            "[INFO] processing image 13/218\n",
            "[INFO] processing image 14/218\n",
            "[INFO] processing image 15/218\n",
            "[INFO] processing image 16/218\n",
            "[INFO] processing image 17/218\n",
            "[INFO] processing image 18/218\n",
            "[INFO] processing image 19/218\n",
            "[INFO] processing image 20/218\n",
            "[INFO] processing image 21/218\n",
            "[INFO] processing image 22/218\n",
            "[INFO] processing image 23/218\n",
            "[INFO] processing image 24/218\n",
            "[INFO] processing image 25/218\n",
            "[INFO] processing image 26/218\n",
            "[INFO] processing image 27/218\n",
            "[INFO] processing image 28/218\n",
            "[INFO] processing image 29/218\n",
            "[INFO] processing image 30/218\n",
            "[INFO] processing image 31/218\n",
            "[INFO] processing image 32/218\n",
            "[INFO] processing image 33/218\n",
            "[INFO] processing image 34/218\n",
            "[INFO] processing image 35/218\n",
            "[INFO] processing image 36/218\n",
            "[INFO] processing image 37/218\n",
            "[INFO] processing image 38/218\n",
            "[INFO] processing image 39/218\n",
            "[INFO] processing image 40/218\n",
            "[INFO] processing image 41/218\n",
            "[INFO] processing image 42/218\n",
            "[INFO] processing image 43/218\n",
            "[INFO] processing image 44/218\n",
            "[INFO] processing image 45/218\n",
            "[INFO] processing image 46/218\n",
            "[INFO] processing image 47/218\n",
            "[INFO] processing image 48/218\n",
            "[INFO] processing image 49/218\n",
            "[INFO] processing image 50/218\n",
            "[INFO] processing image 51/218\n",
            "[INFO] processing image 52/218\n",
            "[INFO] processing image 53/218\n",
            "[INFO] processing image 54/218\n",
            "[INFO] processing image 55/218\n",
            "[INFO] processing image 56/218\n",
            "[INFO] processing image 57/218\n",
            "[INFO] processing image 58/218\n",
            "[INFO] processing image 59/218\n",
            "[INFO] processing image 60/218\n",
            "[INFO] processing image 61/218\n",
            "[INFO] processing image 62/218\n",
            "[INFO] processing image 63/218\n",
            "[INFO] processing image 64/218\n",
            "[INFO] processing image 65/218\n",
            "[INFO] processing image 66/218\n",
            "[INFO] processing image 67/218\n",
            "[INFO] processing image 68/218\n",
            "[INFO] processing image 69/218\n",
            "[INFO] processing image 70/218\n",
            "[INFO] processing image 71/218\n",
            "[INFO] processing image 72/218\n",
            "[INFO] processing image 73/218\n",
            "[INFO] processing image 74/218\n",
            "[INFO] processing image 75/218\n",
            "[INFO] processing image 76/218\n",
            "[INFO] processing image 77/218\n",
            "[INFO] processing image 78/218\n",
            "[INFO] processing image 79/218\n",
            "[INFO] processing image 80/218\n",
            "[INFO] processing image 81/218\n",
            "[INFO] processing image 82/218\n",
            "[INFO] processing image 83/218\n",
            "[INFO] processing image 84/218\n",
            "[INFO] processing image 85/218\n",
            "[INFO] processing image 86/218\n",
            "[INFO] processing image 87/218\n",
            "[INFO] processing image 88/218\n",
            "[INFO] processing image 89/218\n",
            "[INFO] processing image 90/218\n",
            "[INFO] processing image 91/218\n",
            "[INFO] processing image 92/218\n",
            "[INFO] processing image 93/218\n",
            "[INFO] processing image 94/218\n",
            "[INFO] processing image 95/218\n",
            "[INFO] processing image 96/218\n",
            "[INFO] processing image 97/218\n",
            "[INFO] processing image 98/218\n",
            "[INFO] processing image 99/218\n",
            "[INFO] processing image 100/218\n",
            "[INFO] processing image 101/218\n",
            "[INFO] processing image 102/218\n",
            "[INFO] processing image 103/218\n",
            "[INFO] processing image 104/218\n",
            "[INFO] processing image 105/218\n",
            "[INFO] processing image 106/218\n",
            "[INFO] processing image 107/218\n",
            "[INFO] processing image 108/218\n",
            "[INFO] processing image 109/218\n",
            "[INFO] processing image 110/218\n",
            "[INFO] processing image 111/218\n",
            "[INFO] processing image 112/218\n",
            "[INFO] processing image 113/218\n",
            "[INFO] processing image 114/218\n",
            "[INFO] processing image 115/218\n",
            "[INFO] processing image 116/218\n",
            "[INFO] processing image 117/218\n",
            "[INFO] processing image 118/218\n",
            "[INFO] processing image 119/218\n",
            "[INFO] processing image 120/218\n",
            "[INFO] processing image 121/218\n",
            "[INFO] processing image 122/218\n",
            "[INFO] processing image 123/218\n",
            "[INFO] processing image 124/218\n",
            "[INFO] processing image 125/218\n",
            "[INFO] processing image 126/218\n",
            "[INFO] processing image 127/218\n",
            "[INFO] processing image 128/218\n",
            "[INFO] processing image 129/218\n",
            "[INFO] processing image 130/218\n",
            "[INFO] processing image 131/218\n",
            "[INFO] processing image 132/218\n",
            "[INFO] processing image 133/218\n",
            "[INFO] processing image 134/218\n",
            "[INFO] processing image 135/218\n",
            "[INFO] processing image 136/218\n",
            "[INFO] processing image 137/218\n",
            "[INFO] processing image 138/218\n",
            "[INFO] processing image 139/218\n",
            "[INFO] processing image 140/218\n",
            "[INFO] processing image 141/218\n",
            "[INFO] processing image 142/218\n",
            "[INFO] processing image 143/218\n",
            "[INFO] processing image 144/218\n",
            "[INFO] processing image 145/218\n",
            "[INFO] processing image 146/218\n",
            "[INFO] processing image 147/218\n",
            "[INFO] processing image 148/218\n",
            "[INFO] processing image 149/218\n",
            "[INFO] processing image 150/218\n",
            "[INFO] processing image 151/218\n",
            "[INFO] processing image 152/218\n",
            "[INFO] processing image 153/218\n",
            "[INFO] processing image 154/218\n",
            "[INFO] processing image 155/218\n",
            "[INFO] processing image 156/218\n",
            "[INFO] processing image 157/218\n",
            "[INFO] processing image 158/218\n",
            "[INFO] processing image 159/218\n",
            "[INFO] processing image 160/218\n",
            "[INFO] processing image 161/218\n",
            "[INFO] processing image 162/218\n",
            "[INFO] processing image 163/218\n",
            "[INFO] processing image 164/218\n",
            "[INFO] processing image 165/218\n",
            "[INFO] processing image 166/218\n",
            "[INFO] processing image 167/218\n",
            "[INFO] processing image 168/218\n",
            "[INFO] processing image 169/218\n",
            "[INFO] processing image 170/218\n",
            "[INFO] processing image 171/218\n",
            "[INFO] processing image 172/218\n",
            "[INFO] processing image 173/218\n",
            "[INFO] processing image 174/218\n",
            "[INFO] processing image 175/218\n",
            "[INFO] processing image 176/218\n",
            "[INFO] processing image 177/218\n",
            "[INFO] processing image 178/218\n",
            "[INFO] processing image 179/218\n",
            "[INFO] processing image 180/218\n",
            "[INFO] processing image 181/218\n",
            "[INFO] processing image 182/218\n",
            "[INFO] processing image 183/218\n",
            "[INFO] processing image 184/218\n",
            "[INFO] processing image 185/218\n",
            "[INFO] processing image 186/218\n",
            "[INFO] processing image 187/218\n",
            "[INFO] processing image 188/218\n",
            "[INFO] processing image 189/218\n",
            "[INFO] processing image 190/218\n",
            "[INFO] processing image 191/218\n",
            "[INFO] processing image 192/218\n",
            "[INFO] processing image 193/218\n",
            "[INFO] processing image 194/218\n",
            "[INFO] processing image 195/218\n",
            "[INFO] processing image 196/218\n",
            "[INFO] processing image 197/218\n",
            "[INFO] processing image 198/218\n",
            "[INFO] processing image 199/218\n",
            "[INFO] processing image 200/218\n",
            "[INFO] processing image 201/218\n",
            "[INFO] processing image 202/218\n",
            "[INFO] processing image 203/218\n",
            "[INFO] processing image 204/218\n",
            "[INFO] processing image 205/218\n",
            "[INFO] processing image 206/218\n",
            "[INFO] processing image 207/218\n",
            "[INFO] processing image 208/218\n",
            "[INFO] processing image 209/218\n",
            "[INFO] processing image 210/218\n",
            "[INFO] processing image 211/218\n",
            "[INFO] processing image 212/218\n",
            "[INFO] processing image 213/218\n",
            "[INFO] processing image 214/218\n",
            "[INFO] processing image 215/218\n",
            "[INFO] processing image 216/218\n",
            "[INFO] processing image 217/218\n",
            "[INFO] processing image 218/218\n",
            "[INFO] serializing encodings...\n"
          ],
          "name": "stdout"
        }
      ]
    },
    {
      "cell_type": "code",
      "metadata": {
        "id": "hfzuM5T7Iptk",
        "colab_type": "code",
        "colab": {}
      },
      "source": [
        ""
      ],
      "execution_count": null,
      "outputs": []
    }
  ]
}